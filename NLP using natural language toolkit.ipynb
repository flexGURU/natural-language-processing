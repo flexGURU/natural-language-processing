{
 "cells": [
  {
   "cell_type": "code",
   "execution_count": 11,
   "id": "1dfe1943",
   "metadata": {},
   "outputs": [],
   "source": [
    "#importing the natyral language toolkit\n",
    "import nltk"
   ]
  },
  {
   "cell_type": "code",
   "execution_count": 12,
   "id": "8596719b",
   "metadata": {},
   "outputs": [],
   "source": [
    "message = \"HELLO John. How are you doing\""
   ]
  },
  {
   "cell_type": "code",
   "execution_count": 13,
   "id": "844a3028",
   "metadata": {},
   "outputs": [],
   "source": [
    "#importing the tokenization objects from the tokenize class\n",
    "from nltk.tokenize import sent_tokenize, word_tokenize"
   ]
  },
  {
   "cell_type": "code",
   "execution_count": 14,
   "id": "d0f52d1f",
   "metadata": {},
   "outputs": [
    {
     "data": {
      "text/plain": [
       "['HELLO', 'John', '.', 'How', 'are', 'you', 'doing']"
      ]
     },
     "execution_count": 14,
     "metadata": {},
     "output_type": "execute_result"
    }
   ],
   "source": [
    "result = word_tokenize(message)\n",
    "result"
   ]
  },
  {
   "cell_type": "code",
   "execution_count": 15,
   "id": "bdad76b6",
   "metadata": {},
   "outputs": [],
   "source": [
    "from nltk.tokenize import TreebankWordTokenizer"
   ]
  },
  {
   "cell_type": "code",
   "execution_count": 16,
   "id": "c59ad07d",
   "metadata": {},
   "outputs": [],
   "source": [
    "tokenizer_wrd = TreebankWordTokenizer()"
   ]
  },
  {
   "cell_type": "code",
   "execution_count": 17,
   "id": "bfc9ec70",
   "metadata": {},
   "outputs": [
    {
     "data": {
      "text/plain": [
       "['Tutorialspoint.com',\n",
       " 'provides',\n",
       " 'high',\n",
       " 'quality',\n",
       " 'technical',\n",
       " 'tutorials',\n",
       " 'for',\n",
       " 'free',\n",
       " '.']"
      ]
     },
     "execution_count": 17,
     "metadata": {},
     "output_type": "execute_result"
    }
   ],
   "source": [
    "tokenizer_wrd.tokenize('Tutorialspoint.com provides high quality technical tutorials for free.')\n"
   ]
  },
  {
   "cell_type": "code",
   "execution_count": 18,
   "id": "c7a99715",
   "metadata": {},
   "outputs": [],
   "source": [
    "from nltk.stem import PorterStemmer"
   ]
  },
  {
   "cell_type": "code",
   "execution_count": 19,
   "id": "44dedd9a",
   "metadata": {},
   "outputs": [],
   "source": [
    "#creating an instance of stem\n",
    "word_stemmer = PorterStemmer()\n"
   ]
  },
  {
   "cell_type": "code",
   "execution_count": 20,
   "id": "ffb4c32d",
   "metadata": {},
   "outputs": [
    {
     "data": {
      "text/plain": [
       "'write'"
      ]
     },
     "execution_count": 20,
     "metadata": {},
     "output_type": "execute_result"
    }
   ],
   "source": [
    "#steming will produce the root name of the word\n",
    "word_stemmer.stem('writing')"
   ]
  }
 ],
 "metadata": {
  "kernelspec": {
   "display_name": "Python 3 (ipykernel)",
   "language": "python",
   "name": "python3"
  },
  "language_info": {
   "codemirror_mode": {
    "name": "ipython",
    "version": 3
   },
   "file_extension": ".py",
   "mimetype": "text/x-python",
   "name": "python",
   "nbconvert_exporter": "python",
   "pygments_lexer": "ipython3",
   "version": "3.9.12"
  }
 },
 "nbformat": 4,
 "nbformat_minor": 5
}
